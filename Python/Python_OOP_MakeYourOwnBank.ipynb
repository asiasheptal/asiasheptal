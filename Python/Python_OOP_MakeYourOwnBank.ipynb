{
 "cells": [
  {
   "cell_type": "code",
   "execution_count": 1,
   "id": "efa3ef02-ee44-4afd-81a6-c961ec151ec9",
   "metadata": {},
   "outputs": [],
   "source": [
    "class Account:\n",
    "    def __init__(self, name, balance, min_balance):\n",
    "        self.name = name\n",
    "        self.balance= balance\n",
    "        self.min_balance= min_balance\n",
    "\n",
    "    def deposit(self,amount):\n",
    "        self.balance=self.balance + amount\n",
    "\n",
    "    def withdraw(self,amount):\n",
    "        if self.balance - amount >= self.min_balance:\n",
    "            self.balance=self.balance - amount\n",
    "        else:\n",
    "            print(\"Sorry, not enough funds!\")\n",
    "    \n",
    "    def statement(self):\n",
    "        print(\"Available balance:{}\".format(self.balance))\n",
    "\n",
    "class Current(Account):\n",
    "    def __init__(self, name, balance):\n",
    "        super().__init__(name, balance, min_balance=-1000)\n",
    "\n",
    "    def __str__(self):\n",
    "        return \"{}'s Current Account: balance {} dollars.\".format(self.name, self.balance)\n",
    "        "
   ]
  },
  {
   "cell_type": "code",
   "execution_count": 2,
   "id": "21158fce-6f97-4939-9e81-dc6809e58333",
   "metadata": {},
   "outputs": [
    {
     "name": "stdout",
     "output_type": "stream",
     "text": [
      "Asia's Current Account: balance 800 dollars.\n"
     ]
    }
   ],
   "source": [
    "x = Current(\"Asia\", 500)\n",
    "x.deposit(300)\n",
    "print(x)"
   ]
  },
  {
   "cell_type": "code",
   "execution_count": 3,
   "id": "a7110fc7-34f8-468c-8fb3-02c607b0d5a1",
   "metadata": {},
   "outputs": [
    {
     "name": "stdout",
     "output_type": "stream",
     "text": [
      "Asia's Current Account: balance 500 dollars.\n"
     ]
    }
   ],
   "source": [
    "x = Current(\"Asia\", 1000)\n",
    "x.withdraw(500)\n",
    "print(x)\n"
   ]
  },
  {
   "cell_type": "code",
   "execution_count": 4,
   "id": "26fafd54-1a59-45f0-8adb-cca54aece463",
   "metadata": {},
   "outputs": [
    {
     "name": "stdout",
     "output_type": "stream",
     "text": [
      "Available balance:500\n"
     ]
    }
   ],
   "source": [
    "x.statement()"
   ]
  },
  {
   "cell_type": "code",
   "execution_count": 6,
   "id": "fe5f618a-af4a-42e3-a36d-e12d4f5385cd",
   "metadata": {},
   "outputs": [
    {
     "name": "stdout",
     "output_type": "stream",
     "text": [
      "Sorry, not enough funds!\n",
      "Asia's Current Account: balance -1000 dollars.\n"
     ]
    }
   ],
   "source": [
    "x.withdraw(1500)\n",
    "print(x)"
   ]
  },
  {
   "cell_type": "code",
   "execution_count": null,
   "id": "eea034ca-d6f5-4fdf-b687-f0fee0096be1",
   "metadata": {},
   "outputs": [],
   "source": []
  }
 ],
 "metadata": {
  "kernelspec": {
   "display_name": "Python 3 (ipykernel)",
   "language": "python",
   "name": "python3"
  },
  "language_info": {
   "codemirror_mode": {
    "name": "ipython",
    "version": 3
   },
   "file_extension": ".py",
   "mimetype": "text/x-python",
   "name": "python",
   "nbconvert_exporter": "python",
   "pygments_lexer": "ipython3",
   "version": "3.13.1"
  }
 },
 "nbformat": 4,
 "nbformat_minor": 5
}
