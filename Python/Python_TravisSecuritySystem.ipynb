{
 "cells": [
  {
   "cell_type": "code",
   "execution_count": 2,
   "id": "43a0e644-aba5-4897-b083-3ea8f7d5232a",
   "metadata": {},
   "outputs": [
    {
     "name": "stdout",
     "output_type": "stream",
     "text": [
      "Hi! My name is Travis\n"
     ]
    },
    {
     "name": "stdin",
     "output_type": "stream",
     "text": [
      "What is your name?:  Emma\n"
     ]
    },
    {
     "name": "stdout",
     "output_type": "stream",
     "text": [
      "Hello,Emma!\n"
     ]
    },
    {
     "name": "stdin",
     "output_type": "stream",
     "text": [
      "Would you like to be removed from the system (y/n)?:  y\n"
     ]
    },
    {
     "name": "stdout",
     "output_type": "stream",
     "text": [
      "Hi! My name is Travis\n"
     ]
    },
    {
     "name": "stdin",
     "output_type": "stream",
     "text": [
      "What is your name?:  Emma\n"
     ]
    },
    {
     "name": "stdout",
     "output_type": "stream",
     "text": [
      "I don't think I know you, Emma!\n"
     ]
    },
    {
     "name": "stdin",
     "output_type": "stream",
     "text": [
      "Would you like me to add you to the system (y/n)?:  y\n"
     ]
    },
    {
     "name": "stdout",
     "output_type": "stream",
     "text": [
      "Hi! My name is Travis\n"
     ]
    },
    {
     "name": "stdin",
     "output_type": "stream",
     "text": [
      "What is your name?:  Asia\n"
     ]
    },
    {
     "name": "stdout",
     "output_type": "stream",
     "text": [
      "I don't think I know you, Asia!\n"
     ]
    },
    {
     "name": "stdin",
     "output_type": "stream",
     "text": [
      "Would you like me to add you to the system (y/n)?:  n\n"
     ]
    },
    {
     "name": "stdout",
     "output_type": "stream",
     "text": [
      "No worries, see you around\n"
     ]
    }
   ],
   "source": [
    "known_users = [\"Alice\", \"Bob\", \"Claire\", \"Dan\", \"Emma\", \"Fred\", \"George\", \"Harry\"]\n",
    "while True:\n",
    "    print(\"Hi! My name is Travis\")\n",
    "    name = input(\"What is your name?: \").strip().capitalize()\n",
    "    \n",
    "    if name in known_users:\n",
    "        print(\"Hello,{}!\".format(name))\n",
    "        remove=input(\"Would you like to be removed from the system (y/n)?: \").strip().lower()\n",
    "\n",
    "        if remove == \"y\":\n",
    "            known_users.remove(name)\n",
    "        elif remove == \"n\":\n",
    "            print(\"No problem, I didn't want to remove you anyway!\")\n",
    "    else:\n",
    "        print(\"I don't think I know you, {}!\".format(name))\n",
    "        add_me = input(\"Would you like me to add you to the system (y/n)?: \")\n",
    "\n",
    "        if add_me == \"y\":\n",
    "            known_users.append(name)\n",
    "        elif add_me == \"n\":\n",
    "            print(\"No worries, see you around\")\n",
    "            break\n",
    "        "
   ]
  },
  {
   "cell_type": "code",
   "execution_count": null,
   "id": "89b837f1-06d6-4f44-8862-ffd41f879006",
   "metadata": {},
   "outputs": [],
   "source": []
  }
 ],
 "metadata": {
  "kernelspec": {
   "display_name": "Python 3 (ipykernel)",
   "language": "python",
   "name": "python3"
  },
  "language_info": {
   "codemirror_mode": {
    "name": "ipython",
    "version": 3
   },
   "file_extension": ".py",
   "mimetype": "text/x-python",
   "name": "python",
   "nbconvert_exporter": "python",
   "pygments_lexer": "ipython3",
   "version": "3.13.1"
  }
 },
 "nbformat": 4,
 "nbformat_minor": 5
}
