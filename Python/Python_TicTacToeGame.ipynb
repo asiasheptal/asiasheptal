{
 "cells": [
  {
   "cell_type": "code",
   "execution_count": 1,
   "id": "eafd1cac-fb4e-45ec-8ba9-b55ed1b9c0ac",
   "metadata": {},
   "outputs": [
    {
     "name": "stdout",
     "output_type": "stream",
     "text": [
      "\n",
      "|   |   |   |\n",
      "|   |   |   |\n",
      "|   |   |   |\n",
      "\n",
      "Your turn player 1\n"
     ]
    },
    {
     "name": "stdin",
     "output_type": "stream",
     "text": [
      "What's your move? Please enter from 1 to 9:  2\n"
     ]
    },
    {
     "name": "stdout",
     "output_type": "stream",
     "text": [
      "\n",
      "|   | X |   |\n",
      "|   |   |   |\n",
      "|   |   |   |\n",
      "\n",
      "Your turn player 2\n"
     ]
    },
    {
     "name": "stdin",
     "output_type": "stream",
     "text": [
      "What's your move? Please enter from 1 to 9:  1\n"
     ]
    },
    {
     "name": "stdout",
     "output_type": "stream",
     "text": [
      "\n",
      "| O | X |   |\n",
      "|   |   |   |\n",
      "|   |   |   |\n",
      "\n",
      "\n",
      "| O | X |   |\n",
      "|   |   |   |\n",
      "|   |   |   |\n",
      "\n",
      "Your turn player 1\n"
     ]
    },
    {
     "name": "stdin",
     "output_type": "stream",
     "text": [
      "What's your move? Please enter from 1 to 9:  5\n"
     ]
    },
    {
     "name": "stdout",
     "output_type": "stream",
     "text": [
      "\n",
      "| O | X |   |\n",
      "|   | X |   |\n",
      "|   |   |   |\n",
      "\n",
      "Your turn player 2\n"
     ]
    },
    {
     "name": "stdin",
     "output_type": "stream",
     "text": [
      "What's your move? Please enter from 1 to 9:  8\n"
     ]
    },
    {
     "name": "stdout",
     "output_type": "stream",
     "text": [
      "\n",
      "| O | X |   |\n",
      "|   | X |   |\n",
      "|   | O |   |\n",
      "\n",
      "\n",
      "| O | X |   |\n",
      "|   | X |   |\n",
      "|   | O |   |\n",
      "\n",
      "Your turn player 1\n"
     ]
    },
    {
     "name": "stdin",
     "output_type": "stream",
     "text": [
      "What's your move? Please enter from 1 to 9:  7\n"
     ]
    },
    {
     "name": "stdout",
     "output_type": "stream",
     "text": [
      "\n",
      "| O | X |   |\n",
      "|   | X |   |\n",
      "| X | O |   |\n",
      "\n",
      "Your turn player 2\n"
     ]
    },
    {
     "name": "stdin",
     "output_type": "stream",
     "text": [
      "What's your move? Please enter from 1 to 9:  3\n"
     ]
    },
    {
     "name": "stdout",
     "output_type": "stream",
     "text": [
      "\n",
      "| O | X | O |\n",
      "|   | X |   |\n",
      "| X | O |   |\n",
      "\n",
      "\n",
      "| O | X | O |\n",
      "|   | X |   |\n",
      "| X | O |   |\n",
      "\n",
      "Your turn player 1\n"
     ]
    },
    {
     "name": "stdin",
     "output_type": "stream",
     "text": [
      "What's your move? Please enter from 1 to 9:  6\n"
     ]
    },
    {
     "name": "stdout",
     "output_type": "stream",
     "text": [
      "\n",
      "| O | X | O |\n",
      "|   | X | X |\n",
      "| X | O |   |\n",
      "\n",
      "Your turn player 2\n"
     ]
    },
    {
     "name": "stdin",
     "output_type": "stream",
     "text": [
      "What's your move? Please enter from 1 to 9:  4\n"
     ]
    },
    {
     "name": "stdout",
     "output_type": "stream",
     "text": [
      "\n",
      "| O | X | O |\n",
      "| O | X | X |\n",
      "| X | O |   |\n",
      "\n",
      "\n",
      "| O | X | O |\n",
      "| O | X | X |\n",
      "| X | O |   |\n",
      "\n",
      "Your turn player 1\n"
     ]
    },
    {
     "name": "stdin",
     "output_type": "stream",
     "text": [
      "What's your move? Please enter from 1 to 9:  9\n"
     ]
    },
    {
     "name": "stdout",
     "output_type": "stream",
     "text": [
      "\n",
      "| O | X | O |\n",
      "| O | X | X |\n",
      "| X | O | X |\n",
      "\n",
      "It's a draw!\n",
      "Game over!\n"
     ]
    }
   ],
   "source": [
    "board=[\"   \" for i in range(9)]\n",
    "\n",
    "def board_layout():\n",
    "    row1=\"|{}|{}|{}|\".format(board[0],board[1],board[2])\n",
    "    row2=\"|{}|{}|{}|\".format(board[3],board[4],board[5])\n",
    "    row3=\"|{}|{}|{}|\".format(board[6],board[7],board[8])\n",
    "\n",
    "    print()\n",
    "    print(row1)\n",
    "    print(row2)\n",
    "    print(row3)\n",
    "    print()\n",
    "\n",
    "def player_move(icon):\n",
    "    if icon==\" X \":\n",
    "        number = 1\n",
    "    elif icon==\" O \":\n",
    "        number = 2\n",
    "\n",
    "    print(\"Your turn player {}\".format(number))\n",
    "\n",
    "    choice=int(input(\"What's your move? Please enter from 1 to 9: \").strip())\n",
    "    if board[choice-1]==\"   \":\n",
    "        board[choice-1]=icon\n",
    "    else:\n",
    "        print(\"\\nThis cell is already taken!\")\n",
    "\n",
    "def is_victory(icon):\n",
    "    if board[0]==icon and board[1]==icon and board[2]==icon or \\\n",
    "        board[3]==icon and board[4]==icon and board[5]==icon or \\\n",
    "        board[6]==icon and board[7]==icon and board[8]==icon or \\\n",
    "        board[0]==icon and board[3]==icon and board[6]==icon or \\\n",
    "        board[1]==icon and board[4]==icon and board[7]==icon or \\\n",
    "        board[2]==icon and board[5]==icon and board[8]==icon or \\\n",
    "        board[0]==icon and board[4]==icon and board[8]==icon or \\\n",
    "        board[2]==icon and board[4]==icon and board[6]==icon:\n",
    "        return True\n",
    "    else:\n",
    "        return False\n",
    "\n",
    "def is_draw():\n",
    "    if \"   \" not in board:\n",
    "        return True\n",
    "    else:\n",
    "        return False      \n",
    "\n",
    "while True:\n",
    "    board_layout()\n",
    "    player_move(\" X \")\n",
    "    board_layout()\n",
    "    if is_victory(\" X \"):\n",
    "        print(\"X Wins! Congratulations!\")\n",
    "        break\n",
    "    elif is_draw():\n",
    "        print(\"It's a draw!\")\n",
    "        break\n",
    "    player_move(\" O \")\n",
    "    board_layout()\n",
    "    if is_victory(\" O \"):\n",
    "        print(\"O Wins! Congratulations!\")\n",
    "        break\n",
    "print(\"Game over!\")"
   ]
  },
  {
   "cell_type": "code",
   "execution_count": null,
   "id": "1954c595-febd-4cad-9933-63692ec9cd2a",
   "metadata": {},
   "outputs": [],
   "source": []
  }
 ],
 "metadata": {
  "kernelspec": {
   "display_name": "Python 3 (ipykernel)",
   "language": "python",
   "name": "python3"
  },
  "language_info": {
   "codemirror_mode": {
    "name": "ipython",
    "version": 3
   },
   "file_extension": ".py",
   "mimetype": "text/x-python",
   "name": "python",
   "nbconvert_exporter": "python",
   "pygments_lexer": "ipython3",
   "version": "3.13.1"
  }
 },
 "nbformat": 4,
 "nbformat_minor": 5
}
